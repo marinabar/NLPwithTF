{
  "nbformat": 4,
  "nbformat_minor": 0,
  "metadata": {
    "accelerator": "GPU",
    "colab": {
      "name": "Copie de C3_W2_Lab_2_sarcasm_classifier.ipynb",
      "provenance": [],
      "collapsed_sections": [],
      "toc_visible": true
    },
    "kernelspec": {
      "name": "python3",
      "display_name": "Python 3"
    },
    "language_info": {
      "name": "python"
    }
  },
  "cells": [
    {
      "cell_type": "code",
      "metadata": {
        "id": "zX4Kg8DUTKWO"
      },
      "source": [
        "#@title Licensed under the Apache License, Version 2.0 (the \"License\");\n",
        "# you may not use this file except in compliance with the License.\n",
        "# You may obtain a copy of the License at\n",
        "#\n",
        "# https://www.apache.org/licenses/LICENSE-2.0\n",
        "#\n",
        "# Unless required by applicable law or agreed to in writing, software\n",
        "# distributed under the License is distributed on an \"AS IS\" BASIS,\n",
        "# WITHOUT WARRANTIES OR CONDITIONS OF ANY KIND, either express or implied.\n",
        "# See the License for the specific language governing permissions and\n",
        "# limitations under the License."
      ],
      "execution_count": null,
      "outputs": []
    },
    {
      "cell_type": "markdown",
      "metadata": {
        "id": "DblSKtgISM2d"
      },
      "source": [
        "**Note:** This notebook can run using TensorFlow 2.5.0"
      ]
    },
    {
      "cell_type": "code",
      "metadata": {
        "id": "4gs9htvM7n_x"
      },
      "source": [
        "#!pip install tensorflow==2.5.0"
      ],
      "execution_count": null,
      "outputs": []
    },
    {
      "cell_type": "code",
      "metadata": {
        "id": "XYYDvoskkE61"
      },
      "source": [
        "import json\n",
        "import tensorflow as tf\n",
        "\n",
        "from tensorflow.keras.preprocessing.text import Tokenizer\n",
        "from tensorflow.keras.preprocessing.sequence import pad_sequences"
      ],
      "execution_count": null,
      "outputs": []
    },
    {
      "cell_type": "code",
      "metadata": {
        "id": "0eJSTTYnkJQd"
      },
      "source": [
        "vocab_size = 10000\n",
        "embedding_dim = 16\n",
        "max_length = 100\n",
        "trunc_type='post'\n",
        "padding_type='post'\n",
        "oov_tok = \"<OOV>\"\n",
        "training_size = 20000\n"
      ],
      "execution_count": null,
      "outputs": []
    },
    {
      "cell_type": "code",
      "metadata": {
        "id": "BQVuQrZNkPn9",
        "colab": {
          "base_uri": "https://localhost:8080/"
        },
        "outputId": "9ecc6352-af7d-45a5-d947-f8f73e38569b"
      },
      "source": [
        "# sarcasm.json\n",
        "!gdown --id 1xRU3xY5-tkiPGvlz5xBJ18_pHWSRzI4v"
      ],
      "execution_count": null,
      "outputs": [
        {
          "output_type": "stream",
          "name": "stdout",
          "text": [
            "Downloading...\n",
            "From: https://drive.google.com/uc?id=1xRU3xY5-tkiPGvlz5xBJ18_pHWSRzI4v\n",
            "To: /content/sarcasm.json\n",
            "\r  0% 0.00/5.64M [00:00<?, ?B/s]\r100% 5.64M/5.64M [00:00<00:00, 89.5MB/s]\n"
          ]
        }
      ]
    },
    {
      "cell_type": "code",
      "metadata": {
        "id": "oaLaaqhNkUPd"
      },
      "source": [
        "with open(\"./sarcasm.json\", 'r') as f:\n",
        "    datastore = json.load(f)\n",
        "\n",
        "sentences = []\n",
        "labels = []\n",
        "\n",
        "for item in datastore:\n",
        "    sentences.append(item['headline'])\n",
        "    labels.append(item['is_sarcastic'])"
      ],
      "execution_count": null,
      "outputs": []
    },
    {
      "cell_type": "code",
      "metadata": {
        "id": "S1sD-7v0kYWk"
      },
      "source": [
        "training_sentences = sentences[0:training_size]\n",
        "testing_sentences = sentences[training_size:]\n",
        "training_labels = labels[0:training_size]\n",
        "testing_labels = labels[training_size:]"
      ],
      "execution_count": null,
      "outputs": []
    },
    {
      "cell_type": "code",
      "metadata": {
        "id": "3u8UB0MCkZ5N"
      },
      "source": [
        "tokenizer = Tokenizer(num_words=vocab_size, oov_token=oov_tok)\n",
        "tokenizer.fit_on_texts(training_sentences)\n",
        "\n",
        "word_index = tokenizer.word_index\n",
        "\n",
        "training_sequences = tokenizer.texts_to_sequences(training_sentences)\n",
        "training_padded = pad_sequences(training_sequences, maxlen=max_length, padding=padding_type, truncating=trunc_type)\n",
        "\n",
        "testing_sequences = tokenizer.texts_to_sequences(testing_sentences)\n",
        "testing_padded = pad_sequences(testing_sequences, maxlen=max_length, padding=padding_type, truncating=trunc_type)"
      ],
      "execution_count": null,
      "outputs": []
    },
    {
      "cell_type": "code",
      "metadata": {
        "id": "GrAlWBKf99Ya"
      },
      "source": [
        "# Need this block to get it to work with TensorFlow 2.x\n",
        "import numpy as np\n",
        "training_padded = np.array(training_padded)\n",
        "training_labels = np.array(training_labels)\n",
        "testing_padded = np.array(testing_padded)\n",
        "testing_labels = np.array(testing_labels)"
      ],
      "execution_count": null,
      "outputs": []
    },
    {
      "cell_type": "code",
      "metadata": {
        "id": "FufaT4vlkiDE"
      },
      "source": [
        "model = tf.keras.Sequential([\n",
        "    tf.keras.layers.Embedding(vocab_size, embedding_dim, input_length=max_length),\n",
        "    tf.keras.layers.GlobalAveragePooling1D(),\n",
        "    tf.keras.layers.Dense(24, activation='relu'),\n",
        "    tf.keras.layers.Dense(1, activation='sigmoid')\n",
        "])\n",
        "model.compile(loss='binary_crossentropy',optimizer='adam',metrics=['accuracy'])"
      ],
      "execution_count": null,
      "outputs": []
    },
    {
      "cell_type": "code",
      "metadata": {
        "id": "XfDt1hmYkiys",
        "colab": {
          "base_uri": "https://localhost:8080/"
        },
        "outputId": "d993f6ff-dcaa-421f-9926-79eaf94ff9a0"
      },
      "source": [
        "model.summary()\n"
      ],
      "execution_count": null,
      "outputs": [
        {
          "output_type": "stream",
          "name": "stdout",
          "text": [
            "Model: \"sequential\"\n",
            "_________________________________________________________________\n",
            " Layer (type)                Output Shape              Param #   \n",
            "=================================================================\n",
            " embedding (Embedding)       (None, 100, 16)           160000    \n",
            "                                                                 \n",
            " global_average_pooling1d (G  (None, 16)               0         \n",
            " lobalAveragePooling1D)                                          \n",
            "                                                                 \n",
            " dense (Dense)               (None, 24)                408       \n",
            "                                                                 \n",
            " dense_1 (Dense)             (None, 1)                 25        \n",
            "                                                                 \n",
            "=================================================================\n",
            "Total params: 160,433\n",
            "Trainable params: 160,433\n",
            "Non-trainable params: 0\n",
            "_________________________________________________________________\n"
          ]
        }
      ]
    },
    {
      "cell_type": "code",
      "metadata": {
        "id": "2DTKQFf1kkyc",
        "colab": {
          "base_uri": "https://localhost:8080/"
        },
        "outputId": "bd7fdff1-6da3-4fc1-ceda-c2da314209d5"
      },
      "source": [
        "num_epochs = 30\n",
        "history = model.fit(training_padded, training_labels, epochs=num_epochs, validation_data=(testing_padded, testing_labels), verbose=2)"
      ],
      "execution_count": null,
      "outputs": [
        {
          "output_type": "stream",
          "name": "stdout",
          "text": [
            "Epoch 1/30\n",
            "625/625 - 5s - loss: 0.6632 - accuracy: 0.5967 - val_loss: 0.5767 - val_accuracy: 0.8085 - 5s/epoch - 9ms/step\n",
            "Epoch 2/30\n",
            "625/625 - 3s - loss: 0.4275 - accuracy: 0.8360 - val_loss: 0.3825 - val_accuracy: 0.8401 - 3s/epoch - 5ms/step\n",
            "Epoch 3/30\n",
            "625/625 - 3s - loss: 0.3103 - accuracy: 0.8764 - val_loss: 0.3790 - val_accuracy: 0.8284 - 3s/epoch - 5ms/step\n",
            "Epoch 4/30\n",
            "625/625 - 3s - loss: 0.2583 - accuracy: 0.8986 - val_loss: 0.3407 - val_accuracy: 0.8568 - 3s/epoch - 4ms/step\n",
            "Epoch 5/30\n",
            "625/625 - 3s - loss: 0.2243 - accuracy: 0.9130 - val_loss: 0.3417 - val_accuracy: 0.8560 - 3s/epoch - 5ms/step\n",
            "Epoch 6/30\n",
            "625/625 - 3s - loss: 0.1964 - accuracy: 0.9251 - val_loss: 0.3492 - val_accuracy: 0.8532 - 3s/epoch - 5ms/step\n",
            "Epoch 7/30\n",
            "625/625 - 3s - loss: 0.1739 - accuracy: 0.9359 - val_loss: 0.3597 - val_accuracy: 0.8562 - 3s/epoch - 5ms/step\n",
            "Epoch 8/30\n",
            "625/625 - 3s - loss: 0.1562 - accuracy: 0.9427 - val_loss: 0.3807 - val_accuracy: 0.8517 - 3s/epoch - 5ms/step\n",
            "Epoch 9/30\n",
            "625/625 - 3s - loss: 0.1408 - accuracy: 0.9486 - val_loss: 0.3932 - val_accuracy: 0.8512 - 3s/epoch - 4ms/step\n",
            "Epoch 10/30\n",
            "625/625 - 3s - loss: 0.1276 - accuracy: 0.9550 - val_loss: 0.4164 - val_accuracy: 0.8493 - 3s/epoch - 4ms/step\n",
            "Epoch 11/30\n",
            "625/625 - 3s - loss: 0.1147 - accuracy: 0.9608 - val_loss: 0.4349 - val_accuracy: 0.8487 - 3s/epoch - 4ms/step\n",
            "Epoch 12/30\n",
            "625/625 - 3s - loss: 0.1062 - accuracy: 0.9633 - val_loss: 0.4735 - val_accuracy: 0.8371 - 3s/epoch - 4ms/step\n",
            "Epoch 13/30\n",
            "625/625 - 3s - loss: 0.0962 - accuracy: 0.9672 - val_loss: 0.4947 - val_accuracy: 0.8380 - 3s/epoch - 5ms/step\n",
            "Epoch 14/30\n",
            "625/625 - 3s - loss: 0.0878 - accuracy: 0.9715 - val_loss: 0.5187 - val_accuracy: 0.8360 - 3s/epoch - 4ms/step\n",
            "Epoch 15/30\n",
            "625/625 - 3s - loss: 0.0804 - accuracy: 0.9750 - val_loss: 0.5351 - val_accuracy: 0.8362 - 3s/epoch - 4ms/step\n",
            "Epoch 16/30\n",
            "625/625 - 3s - loss: 0.0745 - accuracy: 0.9762 - val_loss: 0.6149 - val_accuracy: 0.8246 - 3s/epoch - 5ms/step\n",
            "Epoch 17/30\n",
            "625/625 - 3s - loss: 0.0698 - accuracy: 0.9773 - val_loss: 0.5898 - val_accuracy: 0.8338 - 3s/epoch - 4ms/step\n",
            "Epoch 18/30\n",
            "625/625 - 3s - loss: 0.0633 - accuracy: 0.9798 - val_loss: 0.6175 - val_accuracy: 0.8319 - 3s/epoch - 5ms/step\n",
            "Epoch 19/30\n",
            "625/625 - 3s - loss: 0.0565 - accuracy: 0.9833 - val_loss: 0.7059 - val_accuracy: 0.8205 - 3s/epoch - 4ms/step\n",
            "Epoch 20/30\n",
            "625/625 - 3s - loss: 0.0534 - accuracy: 0.9840 - val_loss: 0.6949 - val_accuracy: 0.8261 - 3s/epoch - 5ms/step\n",
            "Epoch 21/30\n",
            "625/625 - 3s - loss: 0.0492 - accuracy: 0.9853 - val_loss: 0.7128 - val_accuracy: 0.8268 - 3s/epoch - 4ms/step\n",
            "Epoch 22/30\n",
            "625/625 - 3s - loss: 0.0450 - accuracy: 0.9868 - val_loss: 0.7954 - val_accuracy: 0.8167 - 3s/epoch - 5ms/step\n",
            "Epoch 23/30\n",
            "625/625 - 3s - loss: 0.0420 - accuracy: 0.9876 - val_loss: 0.7779 - val_accuracy: 0.8222 - 3s/epoch - 5ms/step\n",
            "Epoch 24/30\n",
            "625/625 - 3s - loss: 0.0387 - accuracy: 0.9893 - val_loss: 0.8333 - val_accuracy: 0.8201 - 3s/epoch - 5ms/step\n",
            "Epoch 25/30\n",
            "625/625 - 3s - loss: 0.0377 - accuracy: 0.9888 - val_loss: 0.8615 - val_accuracy: 0.8176 - 3s/epoch - 4ms/step\n",
            "Epoch 26/30\n",
            "625/625 - 3s - loss: 0.0319 - accuracy: 0.9903 - val_loss: 0.8780 - val_accuracy: 0.8167 - 3s/epoch - 4ms/step\n",
            "Epoch 27/30\n",
            "625/625 - 3s - loss: 0.0317 - accuracy: 0.9908 - val_loss: 0.9133 - val_accuracy: 0.8156 - 3s/epoch - 4ms/step\n",
            "Epoch 28/30\n",
            "625/625 - 3s - loss: 0.0281 - accuracy: 0.9924 - val_loss: 0.9570 - val_accuracy: 0.8129 - 3s/epoch - 5ms/step\n",
            "Epoch 29/30\n",
            "625/625 - 3s - loss: 0.0283 - accuracy: 0.9916 - val_loss: 0.9992 - val_accuracy: 0.8125 - 3s/epoch - 5ms/step\n",
            "Epoch 30/30\n",
            "625/625 - 3s - loss: 0.0241 - accuracy: 0.9936 - val_loss: 1.0310 - val_accuracy: 0.8120 - 3s/epoch - 5ms/step\n"
          ]
        }
      ]
    },
    {
      "cell_type": "code",
      "metadata": {
        "id": "2HYfBKXjkmU8",
        "colab": {
          "base_uri": "https://localhost:8080/",
          "height": 541
        },
        "outputId": "03beeb31-dc3f-4170-ef76-0ac0ab167694"
      },
      "source": [
        "import matplotlib.pyplot as plt\n",
        "\n",
        "\n",
        "def plot_graphs(history, string):\n",
        "  plt.plot(history.history[string])\n",
        "  plt.plot(history.history['val_'+string])\n",
        "  plt.xlabel(\"Epochs\")\n",
        "  plt.ylabel(string)\n",
        "  plt.legend([string, 'val_'+string])\n",
        "  plt.show()\n",
        "  \n",
        "plot_graphs(history, \"accuracy\")\n",
        "plot_graphs(history, \"loss\")"
      ],
      "execution_count": null,
      "outputs": [
        {
          "output_type": "display_data",
          "data": {
            "image/png": "[encoded data removed]",
            "text/plain": [
              "<Figure size 432x288 with 1 Axes>"
            ]
          },
          "metadata": {
            "needs_background": "light"
          }
        },
        {
          "output_type": "display_data",
          "data": {
            "image/png": "[encoded data removed]",
            "text/plain": [
              "<Figure size 432x288 with 1 Axes>"
            ]
          },
          "metadata": {
            "needs_background": "light"
          }
        }
      ]
    },
    {
      "cell_type": "code",
      "metadata": {
        "id": "7SBdAZAenvzL",
        "colab": {
          "base_uri": "https://localhost:8080/"
        },
        "outputId": "f11bc216-8b2c-4901-df8c-d3274c5b0afb"
      },
      "source": [
        "reverse_word_index = dict([(value, key) for (key, value) in word_index.items()])\n",
        "\n",
        "def decode_sentence(text):\n",
        "    return ' '.join([reverse_word_index.get(i, '?') for i in text])\n",
        "\n",
        "print(decode_sentence(training_padded[0]))\n",
        "print(training_sentences[0])\n",
        "print(labels[2])"
      ],
      "execution_count": null,
      "outputs": [
        {
          "output_type": "stream",
          "name": "stdout",
          "text": [
            "former <OOV> store clerk sues over secret 'black <OOV> for minority shoppers ? ? ? ? ? ? ? ? ? ? ? ? ? ? ? ? ? ? ? ? ? ? ? ? ? ? ? ? ? ? ? ? ? ? ? ? ? ? ? ? ? ? ? ? ? ? ? ? ? ? ? ? ? ? ? ? ? ? ? ? ? ? ? ? ? ? ? ? ? ? ? ? ? ? ? ? ? ? ? ? ? ? ? ? ? ? ? ?\n",
            "former versace store clerk sues over secret 'black code' for minority shoppers\n",
            "1\n"
          ]
        }
      ]
    },
    {
      "cell_type": "code",
      "metadata": {
        "id": "c9MqihtEkzQ9",
        "colab": {
          "base_uri": "https://localhost:8080/"
        },
        "outputId": "9a319f92-9847-4936-dedf-793fefcee812"
      },
      "source": [
        "e = model.layers[0]\n",
        "weights = e.get_weights()[0]\n",
        "print(weights.shape) # shape: (vocab_size, embedding_dim)\n"
      ],
      "execution_count": null,
      "outputs": [
        {
          "output_type": "stream",
          "name": "stdout",
          "text": [
            "(10000, 16)\n"
          ]
        }
      ]
    },
    {
      "cell_type": "code",
      "metadata": {
        "id": "LoBXVffknldU"
      },
      "source": [
        "import io\n",
        "\n",
        "out_v = io.open('vecs.tsv', 'w', encoding='utf-8')\n",
        "out_m = io.open('meta.tsv', 'w', encoding='utf-8')\n",
        "for word_num in range(1, vocab_size):\n",
        "  word = reverse_word_index[word_num]\n",
        "  embeddings = weights[word_num]\n",
        "  out_m.write(word + \"\\n\")\n",
        "  out_v.write('\\t'.join([str(x) for x in embeddings]) + \"\\n\")\n",
        "out_v.close()\n",
        "out_m.close()"
      ],
      "execution_count": null,
      "outputs": []
    },
    {
      "cell_type": "code",
      "metadata": {
        "id": "U4eZ5HtVnnEE"
      },
      "source": [
        "try:\n",
        "  from google.colab import files\n",
        "except ImportError:\n",
        "  pass\n",
        "else:\n",
        "  files.download('vecs.tsv')\n",
        "  files.download('meta.tsv')"
      ],
      "execution_count": null,
      "outputs": []
    },
    {
      "cell_type": "code",
      "metadata": {
        "id": "cG8-ArY-qDcz",
        "colab": {
          "base_uri": "https://localhost:8080/"
        },
        "outputId": "a16cca16-5945-4b5c-ce1d-4f300483ecb9"
      },
      "source": [
        "sentence = [\"granny starting to fear spiders in the garden might be real\", \"game of thrones season finale showing this sunday night\"]\n",
        "sequences = tokenizer.texts_to_sequences(sentence)\n",
        "padded = pad_sequences(sequences, maxlen=max_length, padding=padding_type, truncating=trunc_type)\n",
        "print(model.predict(padded))"
      ],
      "execution_count": null,
      "outputs": [
        {
          "output_type": "stream",
          "name": "stdout",
          "text": [
            "[[9.68868434e-01]\n",
            " [1.03399456e-04]]\n"
          ]
        }
      ]
    },
    {
      "cell_type": "code",
      "metadata": {
        "id": "xPFObL3nSM2m"
      },
      "source": [
        ""
      ],
      "execution_count": null,
      "outputs": []
    }
  ]
}